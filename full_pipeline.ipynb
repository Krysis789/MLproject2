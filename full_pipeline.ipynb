{
 "cells": [
  {
   "cell_type": "code",
   "execution_count": 58,
   "metadata": {},
   "outputs": [],
   "source": [
    "#IMPORT USED PACKAGES AND SET SEED\n",
    "import numpy as np\n",
    "import matplotlib.pyplot as plt\n",
    "from scipy.sparse import *\n",
    "import pickle\n",
    "import random\n",
    "from datetime import datetime\n",
    "import pandas as pd\n",
    "import csv\n",
    "import pbs\n",
    "import os\n",
    "import sys\n",
    "import seaborn as sns\n",
    "import itertools\n",
    "import json\n",
    "from multiprocessing import Pool\n",
    "from spellchecker import SpellChecker\n",
    "from IPython.display import display\n",
    "#IMPORTS NEEDED FOR BUILDING A CLASSIFIER\n",
    "from keras.models import Sequential\n",
    "from keras.layers import Dense\n",
    "from keras.layers import LSTM\n",
    "from keras.layers import Dropout\n",
    "from keras.layers import Flatten\n",
    "import tensorflow\n",
    "random.seed(123)"
   ]
  },
  {
   "cell_type": "markdown",
   "metadata": {},
   "source": [
    "# Preprocessing"
   ]
  },
  {
   "cell_type": "markdown",
   "metadata": {},
   "source": [
    "#### Remove automatic tweets about pictures that occur only in the negative dataset"
   ]
  },
  {
   "cell_type": "code",
   "execution_count": 2,
   "metadata": {},
   "outputs": [],
   "source": [
    "def is_not_auto_picture_tweet(string):\n",
    "    if \" frame \" in string :\n",
    "        beg, end = string.split(\" frame \",1)\n",
    "        return not ((\" picture\" in beg) & (\" frame \" in end))            \n",
    "    else:\n",
    "        return True\n",
    "\n",
    "def drop_picture(input_filename):\n",
    "    with open(\"Datasets/\"+input_filename, encoding=\"utf-8\") as f :\n",
    "        tweets = f.read().splitlines()\n",
    "        df_tweets = pd.DataFrame(tweets,columns=['Tweets'])\n",
    "        df_tweets = df_tweets[df_tweets[\"Tweets\"].apply(is_not_auto_picture_tweet)]\n",
    "    with open('Processed_data/no_pic_' + input_filename, \"w+\", encoding = \"utf-8\") as f:\n",
    "        for tweet in df_tweets[\"Tweets\"]:\n",
    "            f.write(\"%s\\n\" % tweet)\n",
    "    \n",
    "for file in ['train_neg_full.txt']:\n",
    "    drop_picture(file)\n",
    "    \n",
    "# remove pictures from test data\n",
    "with open(\"Datasets/test_data.txt\", encoding=\"utf-8\") as f :\n",
    "    test = f.read().splitlines()\n",
    "    tweets = []\n",
    "    ids = []\n",
    "    for line in test:\n",
    "        id, tweet = line.split(',',1)\n",
    "        tweets.append(tweet)\n",
    "        ids.append(id)\n",
    "    df_test = pd.DataFrame(tweets,ids,columns=['Tweets'])\n",
    "    df_test = df_test[df_test[\"Tweets\"].apply(is_not_auto_picture_tweet)]\n",
    "    \n",
    "with open('Processed_data/no_pic_test_data.txt', \"w+\", encoding = \"utf-8\") as f:\n",
    "    for tweet in df_test[\"Tweets\"]:\n",
    "        f.write(\"%s\\n\" % tweet)\n",
    "\n",
    "with open(\"Processed_data/no_pic_test_data_with_index.txt\", \"w+\", encoding = \"utf-8\") as f:\n",
    "    for index, row in df_test.iterrows():\n",
    "        f.write(index + \",\" + row[\"Tweets\"] + \"\\n\")"
   ]
  },
  {
   "cell_type": "markdown",
   "metadata": {},
   "source": [
    "#### Remove duplicated tweets"
   ]
  },
  {
   "cell_type": "code",
   "execution_count": 3,
   "metadata": {},
   "outputs": [],
   "source": [
    "def drop_duplicate(input_filename):\n",
    "    with open(input_filename, encoding=\"utf-8\") as f :\n",
    "        tweets = f.read().splitlines()\n",
    "        df_tweets = pd.DataFrame(tweets,columns=['Tweets'])\n",
    "        df_tweets.drop_duplicates(inplace=True)\n",
    "    with open('Processed_data/no_dupl_' + input_filename.split(\"/\")[1], \"w+\", encoding = \"UTF-8\") as f:\n",
    "        for tweet in df_tweets[\"Tweets\"]:\n",
    "            f.write(\"%s\\n\" % tweet)"
   ]
  },
  {
   "cell_type": "code",
   "execution_count": 4,
   "metadata": {},
   "outputs": [],
   "source": [
    "for file in ['Processed_data/no_pic_train_neg_full.txt','Datasets/train_pos_full.txt']:\n",
    "    drop_duplicate(file)"
   ]
  },
  {
   "cell_type": "code",
   "execution_count": 5,
   "metadata": {},
   "outputs": [],
   "source": [
    "# drop duplicates test\n",
    "with open(\"Processed_data/no_pic_test_data_with_index.txt\", encoding=\"utf-8\") as f :\n",
    "    test = f.read().splitlines()\n",
    "    tweets = []\n",
    "    ids = []\n",
    "    for line in test:\n",
    "        id, tweet = line.split(',',1)\n",
    "        tweets.append(tweet)\n",
    "        ids.append(id)\n",
    "    df_test = pd.DataFrame(tweets,ids,columns=['Tweets'])\n",
    "    df_test.drop_duplicates(inplace=True)\n",
    "    \n",
    "with open('Processed_data/no_dupl_no_pic_test_data.txt', \"w+\", encoding = \"UTF-8\") as f:\n",
    "    for tweet in df_test[\"Tweets\"]:\n",
    "        f.write(\"%s\\n\" % tweet)"
   ]
  },
  {
   "cell_type": "markdown",
   "metadata": {},
   "source": [
    "#### Concatenate all text files (pos, neg and test) to create a dataset used as reference for twitter language"
   ]
  },
  {
   "cell_type": "code",
   "execution_count": 6,
   "metadata": {},
   "outputs": [],
   "source": [
    "with open(\"Processed_data/twitter_language_full.txt\", \"w+\", encoding = \"utf-8\") as f:\n",
    "    for path in ['Processed_data/no_dupl_train_pos_full.txt','Processed_data/no_dupl_no_pic_train_neg_full.txt', 'Processed_data/no_dupl_no_pic_test_data.txt']:\n",
    "        with open(path,encoding=\"utf-8\") as file:\n",
    "            f.write(file.read())"
   ]
  },
  {
   "cell_type": "markdown",
   "metadata": {},
   "source": [
    "###  Spell correction"
   ]
  },
  {
   "cell_type": "code",
   "execution_count": 7,
   "metadata": {},
   "outputs": [],
   "source": [
    "## Create a frequency dictionnary of words occuring at least *threshold* times in the dataset, \n",
    "## that will be used as a reference for spell checking\n",
    "\n",
    "output_filename = 'Processed_data/vocab_freq.txt'\n",
    "vocab_successful = os.system(\"build_vocab.sh Processed_data/twitter_language.txt \" + output_filename)\n",
    "\n",
    "if (vocab_successful != 0):\n",
    "    sys.exit(\"Building vocabulary failed.\")"
   ]
  },
  {
   "cell_type": "code",
   "execution_count": 8,
   "metadata": {},
   "outputs": [],
   "source": [
    "## Create a frequency dictionnary of words occuring at least *threshold* times in the dataset, \n",
    "## that will be used as a reference for spell checking\n",
    "\n",
    "output_filename = 'Processed_data/vocab_freq_full.txt'\n",
    "vocab_successful = os.system(\"build_vocab.sh Processed_data/twitter_language_full.txt \" + output_filename)\n",
    "\n",
    "if (vocab_successful != 0):\n",
    "    sys.exit(\"Building vocabulary failed.\")"
   ]
  },
  {
   "cell_type": "code",
   "execution_count": 9,
   "metadata": {},
   "outputs": [],
   "source": [
    "def build_dictionnary(input_vocab, threshold):\n",
    "    full_vocab = pd.read_csv(input_vocab+\".txt\", sep = \"\\s+\", header=None, engine='python')\n",
    "    cut_vocab = full_vocab[full_vocab[0] >= threshold]\n",
    "    cut_vocab.columns = [\"number occ\",\"word\"]\n",
    "    cut_vocab.set_index(\"word\",inplace=True)\n",
    "    with open(input_vocab + \"_\" + str(threshold) + '.json', 'w') as f:\n",
    "        json.dump(cut_vocab[\"number occ\"].to_dict(), f)\n",
    "\n",
    "#build_dictionnary(\"Processed_data/vocab_freq\", threshold=5) #TODO try other threshold\n",
    "#build_dictionnary(\"Processed_data/vocab_freq_full\", threshold=5) #TODO try other threshold"
   ]
  },
  {
   "cell_type": "code",
   "execution_count": 10,
   "metadata": {},
   "outputs": [],
   "source": [
    "## Spell correction functions\n",
    "def correct(tweet, dict_corr):\n",
    "    list_words = tweet.split()\n",
    "    for i, word in enumerate(list_words):\n",
    "        if word in dict_corr :\n",
    "            list_words[i] = dict_corr[word]\n",
    "    corr_tweet = ' '.join(list_words)\n",
    "    return (corr_tweet) \n",
    "\n",
    "def spell_correction(data, reference_dictionnary_filename):\n",
    "    spell = SpellChecker(distance=1) # TODO if possible, try distance=2\n",
    "    spell.word_frequency.load_dictionary(reference_dictionnary_filename) \n",
    "    dict_corr = {}\n",
    "    for tweet in data[\"Tweets\"]:\n",
    "        list_words = tweet.split()\n",
    "        for i, word in enumerate(list_words):\n",
    "            if word not in dict_corr :\n",
    "                if word in spell.unknown([word]):\n",
    "                    dict_corr[word] = spell.correction(word)\n",
    "    data[\"Tweets\"] = data[\"Tweets\"].apply(lambda x : correct(x, dict_corr))\n",
    "    return data, dict_corr"
   ]
  },
  {
   "cell_type": "code",
   "execution_count": 11,
   "metadata": {},
   "outputs": [],
   "source": [
    "#Define the used datasets here\n",
    "positive_dataset = 'Processed_data/no_dupl_train_pos_full.txt' #'Processed_data/no_dupl_train_pos_full.txt'\n",
    "negative_dataset = 'Processed_data/no_dupl_no_pic_train_neg_full.txt' #'Processed_data/no_dupl_train_neg_full.txt'\n",
    "\n",
    "def load_in_pd(data_path):\n",
    "    with open(data_path, encoding=\"utf-8\") as f :\n",
    "        x = f.read().splitlines()\n",
    "        x = pd.DataFrame(x,columns=['Tweets'])\n",
    "    return (x)\n",
    "\n",
    "positive_pd = load_in_pd(positive_dataset)\n",
    "negative_pd = load_in_pd(negative_dataset)"
   ]
  },
  {
   "cell_type": "code",
   "execution_count": 12,
   "metadata": {},
   "outputs": [
    {
     "name": "stdout",
     "output_type": "stream",
     "text": [
      "done positive\n",
      "Wall time: 4.94 s\n"
     ]
    }
   ],
   "source": [
    "%%time\n",
    "### APPLYING spell correction to pos and neg\n",
    "\n",
    "positive_preprocessed, dict_corr1 = spell_correction(positive_pd,'Processed_data/vocab_freq_full.json') #'Processed_data/vocab_freq_full.json') \n",
    "with open('Processed_data/' + 'positive_spell_full.txt', \"w+\", encoding = \"UTF-8\") as f: #positive_spell_full.txt', \"w+\", encoding = \"UTF-8\") as f:\n",
    "    for tweet in positive_preprocessed[\"Tweets\"]:\n",
    "        f.write(\"%s\\n\" % tweet)\n",
    "del positive_preprocessed\n",
    "print(\"done positive\")\n",
    "\n",
    "negative_preprocessed, dict_corr2 = spell_correction(negative_pd,'Processed_data/vocab_freq_full.json') #'Processed_data/vocab_freq_full.json') \n",
    "with open('Processed_data/' + 'negative_spell_full.txt', \"w+\", encoding = \"UTF-8\") as f: #negative_spell_full.txt', \"w+\", encoding = \"UTF-8\") as f:\n",
    "    for tweet in negative_preprocessed[\"Tweets\"]:\n",
    "        f.write(\"%s\\n\" % tweet)\n",
    "del negative_preprocessed"
   ]
  },
  {
   "cell_type": "code",
   "execution_count": 13,
   "metadata": {},
   "outputs": [],
   "source": [
    "### APPLYING spell correction to test\n",
    "\n",
    "test_dataset = \"Datasets/test_data.txt\"\n",
    "\n",
    "def load_in_pd_test(data_path):\n",
    "    with open(data_path, encoding=\"utf-8\") as f :\n",
    "        test = f.read().splitlines()\n",
    "        tweets = []\n",
    "        ids = []\n",
    "        for line in test:\n",
    "            id, tweet = line.split(',',1)\n",
    "            tweets.append(tweet)\n",
    "            ids.append(id)\n",
    "        test = pd.DataFrame(tweets,ids,columns=['Tweets'])\n",
    "    return test\n",
    "\n",
    "test_pd = load_in_pd_test(test_dataset)\n",
    "test_spell, dict_corr_test = spell_correction(test_pd,'Processed_data/vocab_freq_full.json') #'Processed_data/vocab_freq_full.json')  \n",
    "\n",
    "with open(\"Processed_data/test_spell.txt\", \"w+\", encoding=\"utf-8\") as f:\n",
    "    for index, row in test_spell.iterrows():\n",
    "        f.write(index + \",\" + row[\"Tweets\"] + \"\\n\")"
   ]
  },
  {
   "cell_type": "code",
   "execution_count": 14,
   "metadata": {
    "scrolled": false
   },
   "outputs": [
    {
     "name": "stdout",
     "output_type": "stream",
     "text": [
      "one done\n",
      "one done\n",
      "one done\n",
      "one done\n",
      "Wall time: 5.79 s\n"
     ]
    },
    {
     "data": {
      "text/plain": [
       "[<matplotlib.lines.Line2D at 0x1e5d7ece5f8>]"
      ]
     },
     "execution_count": 14,
     "metadata": {},
     "output_type": "execute_result"
    },
    {
     "data": {
      "image/png": "[encoded data removed]",
      "text/plain": [
       "<Figure size 432x288 with 1 Axes>"
      ]
     },
     "metadata": {
      "needs_background": "light"
     },
     "output_type": "display_data"
    }
   ],
   "source": [
    "%%time\n",
    "thresholds = [10,20,50,100]\n",
    "nbr_corrected = []\n",
    "for threshold in thresholds:\n",
    "    build_dictionnary(\"Processed_data/vocab_freq_full\", threshold=threshold)\n",
    "    with open(\"Processed_data/twitter_language_full.txt\", encoding=\"utf-8\") as f :\n",
    "        x = f.read().splitlines()\n",
    "        x = pd.DataFrame(x,columns=['Tweets'])\n",
    "    output, dict_corr = spell_correction(x,\"Processed_data/vocab_freq_full_\" + str(threshold) + '.json')\n",
    "    corrected = {k:v for (k,v) in dict_corr.items() if v==v}\n",
    "    nbr_corrected.append(len(corrected))\n",
    "    print(\"one done\")\n",
    "plt.plot(thresholds,nbr_corrected)"
   ]
  },
  {
   "cell_type": "code",
   "execution_count": 15,
   "metadata": {},
   "outputs": [
    {
     "name": "stdout",
     "output_type": "stream",
     "text": [
      "one done\n",
      "one done\n",
      "one done\n",
      "one done\n",
      "Wall time: 8.25 s\n"
     ]
    }
   ],
   "source": [
    "%%time\n",
    "thresholds = [10,20,50,100]\n",
    "dictionaries = []\n",
    "nbr_corrected = []\n",
    "ratio_corrected = []\n",
    "for threshold in thresholds:\n",
    "    build_dictionnary(\"Processed_data/vocab_freq_full\", threshold=threshold)\n",
    "    with open(\"Processed_data/twitter_language_full.txt\", encoding=\"utf-8\") as f :\n",
    "        x = f.read().splitlines()\n",
    "        x = pd.DataFrame(x,columns=['Tweets'])\n",
    "    output, dict_corr = spell_correction(x,\"Processed_data/vocab_freq_full_\" + str(threshold) + '.json')\n",
    "    dictionaries.append(dict_corr)\n",
    "    corrected = {k:v for (k,v) in dict_corr.items() if k!=v}\n",
    "    nbr_corrected.append(len(corrected))\n",
    "    ratio_corrected.append(len(corrected)/len(dict_corr))\n",
    "    print(\"one done\")"
   ]
  },
  {
   "cell_type": "code",
   "execution_count": 16,
   "metadata": {},
   "outputs": [
    {
     "name": "stdout",
     "output_type": "stream",
     "text": [
      "one done\n",
      "one done\n",
      "one done\n",
      "one done\n",
      "Wall time: 8.49 s\n"
     ]
    }
   ],
   "source": [
    "%%time\n",
    "thresholds = [10,20,50,100]\n",
    "dictionaries = []\n",
    "nbr_corrected = []\n",
    "ratio_corrected = []\n",
    "for threshold in thresholds:\n",
    "    build_dictionnary(\"Processed_data/vocab_freq_full\", threshold=threshold)\n",
    "    with open(\"Processed_data/twitter_language_full.txt\", encoding=\"utf-8\") as f :\n",
    "        x = f.read().splitlines()\n",
    "        x = pd.DataFrame(x,columns=['Tweets'])\n",
    "    output, dict_corr = spell_correction(x,\"Processed_data/vocab_freq_full_\" + str(threshold) + '.json')\n",
    "    dictionaries.append(dict_corr)\n",
    "    corrected = {k:v for (k,v) in dict_corr.items() if k!=v}\n",
    "    nbr_corrected.append(len(corrected))\n",
    "    ratio_corrected.append(len(corrected)/len(dict_corr))\n",
    "    print(\"one done\")"
   ]
  },
  {
   "cell_type": "code",
   "execution_count": 17,
   "metadata": {},
   "outputs": [],
   "source": [
    "thresholds = [10,20,50,100]\n",
    "nbr_corrected = []\n",
    "ratio_corrected = []\n",
    "nbr_unknown = []\n",
    "for dict_corr in dictionaries :\n",
    "    corrected = {k:v for (k,v) in dict_corr.items() if k!=v}\n",
    "    nbr_corrected.append(len(corrected))\n",
    "    ratio_corrected.append(len(corrected)/len(dict_corr))\n",
    "    nbr_unknown.append(len(dict_corr))"
   ]
  },
  {
   "cell_type": "code",
   "execution_count": 18,
   "metadata": {},
   "outputs": [
    {
     "data": {
      "text/plain": [
       "[<matplotlib.lines.Line2D at 0x1e5d7365ac8>]"
      ]
     },
     "execution_count": 18,
     "metadata": {},
     "output_type": "execute_result"
    },
    {
     "data": {
      "image/png": "[encoded data removed]",
      "text/plain": [
       "<Figure size 432x288 with 1 Axes>"
      ]
     },
     "metadata": {
      "needs_background": "light"
     },
     "output_type": "display_data"
    }
   ],
   "source": [
    "plt.plot(thresholds,nbr_corrected)"
   ]
  },
  {
   "cell_type": "code",
   "execution_count": 19,
   "metadata": {
    "scrolled": true
   },
   "outputs": [
    {
     "data": {
      "text/plain": [
       "[<matplotlib.lines.Line2D at 0x1e5d738bac8>]"
      ]
     },
     "execution_count": 19,
     "metadata": {},
     "output_type": "execute_result"
    },
    {
     "data": {
      "image/png": "[encoded data removed]",
      "text/plain": [
       "<Figure size 432x288 with 1 Axes>"
      ]
     },
     "metadata": {
      "needs_background": "light"
     },
     "output_type": "display_data"
    }
   ],
   "source": [
    "plt.plot(thresholds,ratio_corrected)"
   ]
  },
  {
   "cell_type": "code",
   "execution_count": 20,
   "metadata": {},
   "outputs": [
    {
     "data": {
      "text/plain": [
       "[<matplotlib.lines.Line2D at 0x1e5d6b28358>]"
      ]
     },
     "execution_count": 20,
     "metadata": {},
     "output_type": "execute_result"
    },
    {
     "data": {
      "image/png": "[encoded data removed]",
      "text/plain": [
       "<Figure size 432x288 with 1 Axes>"
      ]
     },
     "metadata": {
      "needs_background": "light"
     },
     "output_type": "display_data"
    }
   ],
   "source": [
    "plt.plot(thresholds,nbr_unknown)"
   ]
  },
  {
   "cell_type": "markdown",
   "metadata": {},
   "source": [
    ".\n",
    "\n",
    ".\n",
    "\n",
    ".\n",
    "\n",
    ".\n",
    "\n",
    "."
   ]
  },
  {
   "cell_type": "code",
   "execution_count": 21,
   "metadata": {},
   "outputs": [],
   "source": [
    "# gather input for word embeddings\n",
    "with open(\"Processed_data/input_WE_full.txt\", \"w+\", encoding = \"utf-8\") as f:\n",
    "    with open(\"Processed_data/test_spell.txt\",encoding=\"utf-8\") as test:\n",
    "        test = test.readlines()\n",
    "        for line in test:\n",
    "            id, tweet = line.split(',',1)\n",
    "            f.write(\"%s\" % tweet)\n",
    "    \n",
    "    for path in ['Processed_data/positive_spell_full.txt','Processed_data/negative_spell_full.txt']:\n",
    "        with open(path,encoding=\"utf-8\") as file:\n",
    "            f.write(file.read())"
   ]
  },
  {
   "cell_type": "code",
   "execution_count": 22,
   "metadata": {},
   "outputs": [],
   "source": [
    "output_filename = 'Processed_data/vocab_freq_after_spell_full.txt' #'Processed_data/vocab_freq_after_spell_full.txt'\n",
    "vocab_successful = os.system(\"build_vocab.sh Processed_data/input_WE_full.txt \" + output_filename)\n",
    "\n",
    "if (vocab_successful != 0):\n",
    "    sys.exit(\"Building vocabulary failed.\")\n"
   ]
  },
  {
   "cell_type": "markdown",
   "metadata": {},
   "source": [
    "#### Find good minimal threshold on the number of occurrences"
   ]
  },
  {
   "cell_type": "code",
   "execution_count": 23,
   "metadata": {},
   "outputs": [],
   "source": [
    "full_vocab_spell = pd.read_csv('Processed_data/vocab_freq_after_spell_full.txt', sep = \"\\s+\", header=None, engine='python')\n",
    "full_vocab_spell.columns = [\"number occ\",\"word\"]\n",
    "full_vocab_spell.set_index(\"word\",inplace=True)"
   ]
  },
  {
   "cell_type": "code",
   "execution_count": 24,
   "metadata": {},
   "outputs": [
    {
     "data": {
      "image/png": "[encoded data removed]",
      "text/plain": [
       "<Figure size 1080x504 with 1 Axes>"
      ]
     },
     "metadata": {
      "needs_background": "light"
     },
     "output_type": "display_data"
    }
   ],
   "source": [
    "plt.subplots(figsize=(15,7))\n",
    "plt.yscale(\"log\")\n",
    "plt.hist(full_vocab_spell[\"number occ\"],bins=200)\n",
    "plt.xlabel(\"Number of occurence\")\n",
    "plt.ylabel(\"Number of word\")\n",
    "plt.title(\"Histogram of the number of occurences of all different words in the whole dataset\")\n",
    "plt.savefig(\"Plot/threshold_build_vocab_fig1.png\")\n",
    "plt.show()"
   ]
  },
  {
   "cell_type": "code",
   "execution_count": 25,
   "metadata": {},
   "outputs": [
    {
     "data": {
      "image/png": "[encoded data removed]",
      "text/plain": [
       "<Figure size 1080x504 with 1 Axes>"
      ]
     },
     "metadata": {
      "needs_background": "light"
     },
     "output_type": "display_data"
    }
   ],
   "source": [
    "plt.subplots(figsize=(15,7))\n",
    "plt.yscale(\"log\")\n",
    "plt.xscale(\"log\")\n",
    "plt.hist(full_vocab_spell[\"number occ\"],bins=2**(np.arange(0,24)))\n",
    "plt.xlabel(\"Number of occurence\")\n",
    "plt.ylabel(\"Number of word\")\n",
    "plt.title(\"Histogram of the number of occurences of all different words in the whole dataset\")\n",
    "plt.savefig(\"Plot/threshold_build_vocab_fig2.png\")\n",
    "plt.show()"
   ]
  },
  {
   "cell_type": "markdown",
   "metadata": {},
   "source": [
    "It's a power-law distribution !"
   ]
  },
  {
   "cell_type": "code",
   "execution_count": 26,
   "metadata": {},
   "outputs": [
    {
     "data": {
      "image/png": "[encoded data removed]",
      "text/plain": [
       "<Figure size 1080x864 with 2 Axes>"
      ]
     },
     "metadata": {
      "needs_background": "light"
     },
     "output_type": "display_data"
    }
   ],
   "source": [
    "plt.subplots(figsize=(15,12))\n",
    "x = range(1,100)\n",
    "y1 = []\n",
    "y2 = []\n",
    "for threshold in x :\n",
    "    y1.append(sum(full_vocab_spell[\"number occ\"]>threshold))\n",
    "    y2.append(sum(full_vocab_spell[full_vocab_spell[\"number occ\"]>threshold][\"number occ\"]))\n",
    "plt.subplot(211)\n",
    "plt.xlabel(\"Minimal threshold of occurences\")\n",
    "plt.ylabel(\"Number of different word\")\n",
    "plt.ylim(0,max(y1)*1.1)\n",
    "plt.plot(x,y1)\n",
    "plt.subplot(212)\n",
    "plt.xlabel(\"Minimal threshold of occurences\")\n",
    "plt.ylabel(\"Total number of words\")\n",
    "plt.ylim(0,max(y2)*1.1)\n",
    "plt.plot(x,y2)\n",
    "plt.savefig(\"Plot/threshold_build_vocab_fig3.png\")\n",
    "plt.show()"
   ]
  },
  {
   "cell_type": "code",
   "execution_count": 27,
   "metadata": {},
   "outputs": [
    {
     "data": {
      "image/png": "[encoded data removed]",
      "text/plain": [
       "<Figure size 432x288 with 1 Axes>"
      ]
     },
     "metadata": {
      "needs_background": "light"
     },
     "output_type": "display_data"
    }
   ],
   "source": [
    "plt.yscale(\"log\")\n",
    "plt.hist(full_vocab_spell[\"number occ\"],bins=50)\n",
    "plt.show()"
   ]
  },
  {
   "cell_type": "code",
   "execution_count": 28,
   "metadata": {},
   "outputs": [],
   "source": [
    "# We choose threshold = 20"
   ]
  },
  {
   "cell_type": "code",
   "execution_count": 43,
   "metadata": {},
   "outputs": [],
   "source": [
    "#Do plots for exploring good stop words\n",
    "\n",
    "#Check the number of occurrences for every token in positive and negative sets\n",
    "os.system(\"build_vocab.sh Processed_data/positive_spell_full.txt positive_vocab.txt\")\n",
    "os.system(\"build_vocab.sh Processed_data/negative_spell_full.txt negative_vocab.txt\")\n",
    "#Take top 100 words\n",
    "full_vocab = pd.read_csv('Processed_data/vocab_freq_after_spell_full.txt', sep = \"\\s+\", header=None, engine = 'python')\n",
    "words = full_vocab.sort_values(by= 0, ascending = False)[0:99][1]\n",
    "\n",
    "positive_vocab = pd.read_csv('positive_vocab.txt', sep = \"\\s+\", header=None, engine = 'python')\n",
    "negative_vocab = pd.read_csv('negative_vocab.txt', sep = \"\\s+\", header=None, engine = 'python')\n",
    "\n",
    "x1 = np.zeros(len(words))\n",
    "x2 = np.zeros(len(words))\n",
    "\n",
    "i = 0\n",
    "for word in words:\n",
    "    if any(negative_vocab[1] == word):\n",
    "        x1[i] = negative_vocab[0][negative_vocab[1] == word]\n",
    "    if any(positive_vocab[1] == word):\n",
    "        x2[i] = positive_vocab[0][positive_vocab[1] == word]\n",
    "    i += 1"
   ]
  },
  {
   "cell_type": "code",
   "execution_count": 44,
   "metadata": {},
   "outputs": [
    {
     "data": {
      "image/png": "[encoded data removed]",
      "text/plain": [
       "<Figure size 720x720 with 1 Axes>"
      ]
     },
     "metadata": {
      "needs_background": "light"
     },
     "output_type": "display_data"
    }
   ],
   "source": [
    "#Plot of the 50 most frequent tokens\n",
    "df = pd.DataFrame({\n",
    "    'Word': words[0:50],\n",
    "    'Positive': x2[0:50],\n",
    "    'Negative': x1[0:50]\n",
    "})\n",
    "fig, ax1 = plt.subplots(figsize=(10, 10))\n",
    "tidy = df.melt(id_vars='Word').rename(columns=str.title)\n",
    "ax = sns.barplot(y='Word', x='Value', hue='Variable', data=tidy, ax=ax1)\n",
    "ax.set(xlabel='Number of Occurrences')\n",
    "ax.legend(title='Set of Tweets', labels=['Positive', 'Negative'])\n",
    "plt.show()"
   ]
  },
  {
   "cell_type": "code",
   "execution_count": 45,
   "metadata": {},
   "outputs": [
    {
     "data": {
      "image/png": "[encoded data removed]",
      "text/plain": [
       "<Figure size 720x720 with 1 Axes>"
      ]
     },
     "metadata": {
      "needs_background": "light"
     },
     "output_type": "display_data"
    }
   ],
   "source": [
    "#Plot of the 51-100 most frequent tokens\n",
    "df = pd.DataFrame({\n",
    "    'Word': words[51:100],\n",
    "    'Positive': x2[51:100],\n",
    "    'Negative': x1[51:100]\n",
    "})\n",
    "fig, ax1 = plt.subplots(figsize=(10, 10))\n",
    "tidy = df.melt(id_vars='Word').rename(columns=str.title)\n",
    "ax = sns.barplot(y='Word', x='Value', hue='Variable', data=tidy, ax=ax1)\n",
    "ax.set(xlabel='Number of Occurrences')\n",
    "ax.legend(title='Set of Tweets', labels=['Positive', 'Negative'])\n",
    "plt.show()"
   ]
  },
  {
   "cell_type": "markdown",
   "metadata": {},
   "source": [
    ".\n",
    "\n",
    ".\n",
    "\n",
    ".\n",
    "\n",
    "."
   ]
  },
  {
   "cell_type": "code",
   "execution_count": 47,
   "metadata": {},
   "outputs": [],
   "source": [
    "##APPLY build_vocab.sh AND CUT THE VOCABULARY USING THE CHOSEN THRESHOLD\n",
    "\n",
    "#Choose the desired cutting parameter here (Tokens with >= cut_threshold occurrences are kept)\n",
    "cut_threshold = 20\n",
    "\n",
    "output_filename = 'Processed_data/vocab_full'  + '.txt'\n",
    "vocab_successful = os.system(\"build_vocab.sh Processed_data/input_WE_full.txt \" + output_filename)\n",
    "\n",
    "if (vocab_successful != 0):\n",
    "    sys.exit(\"Building vocabulary failed.\")\n",
    "    \n",
    "def cut_and_save_vocab(file_in, file_out):\n",
    "    full_vocab = pd.read_csv(file_in, sep = \"\\s+\", header=None, engine = 'python')\n",
    "    cutted_vocab = full_vocab[full_vocab[0] >= cut_threshold][1]\n",
    "    with open(file_out, 'w+') as f:\n",
    "        f.write(cutted_vocab.to_string(header = False, index = False))\n",
    "    \n",
    "cut_and_save_vocab('Processed_data/vocab_full' + '.txt', 'Processed_data/vocab_cut_full' + '.txt')\n",
    "    "
   ]
  },
  {
   "cell_type": "code",
   "execution_count": 48,
   "metadata": {},
   "outputs": [],
   "source": [
    "##DUMP THE BUILT VOCABULARY TO A PICKLE FILE\n",
    "vocab = dict()\n",
    "with open('Processed_data/vocab_cut_full' + '.txt') as f:\n",
    "    for idx, line in enumerate(f):\n",
    "        vocab[line.strip()] = idx\n",
    "\n",
    "with open('Processed_data/vocab_full' + '.pkl', 'wb') as f:\n",
    "    pickle.dump(vocab, f, pickle.HIGHEST_PROTOCOL)"
   ]
  },
  {
   "cell_type": "code",
   "execution_count": 49,
   "metadata": {},
   "outputs": [
    {
     "name": "stdout",
     "output_type": "stream",
     "text": [
      "4064\n",
      "Summing duplicates\n",
      "Wall time: 94.9 ms\n"
     ]
    }
   ],
   "source": [
    "%%time\n",
    "##CREATE A CO-OCCURRENCE MATRIX with context defined with threshold distance\n",
    "def context(lst,index,threshold):\n",
    "    return(lst[index+1 : min(index+threshold, len(lst)-1)])\n",
    "\n",
    "def create_cooc_dist(vocab_file, negative_file, positive_file, output_file, threshold):\n",
    "    with open(vocab_file, 'rb') as f:\n",
    "        vocab = pickle.load(f)\n",
    "    vocab_size = len(vocab)\n",
    "    data, row, col = [], [], []\n",
    "    counter = 1\n",
    "    for fn in [negative_file, positive_file]:\n",
    "        with open(fn,encoding=\"utf8\") as f:\n",
    "            for line in f:\n",
    "                tokens = [vocab.get(t, -1) for t in line.strip().split()]\n",
    "                #tokens = [t for t in tokens if t >= 0]\n",
    "                for i, t1 in enumerate(tokens):\n",
    "                    if t1 >= 0:\n",
    "                        for t2 in context(tokens,i,threshold):\n",
    "                            if t2 >= 0:\n",
    "                                if t1==t2 :\n",
    "                                    data.append(1/2)\n",
    "                                else :\n",
    "                                    data.append(1)\n",
    "                                row.append(min(t1,t2))\n",
    "                                col.append(max(t1,t2))\n",
    "\n",
    "                if counter % 100000 == 0:\n",
    "                    print(counter)\n",
    "                counter += 1\n",
    "\n",
    "                if counter % 3000000 == 0:\n",
    "                    print(len(data))\n",
    "                    cooc = coo_matrix((data, (row, col)))\n",
    "                    print(\"summing duplicates (this can take a while)\")\n",
    "                    cooc.sum_duplicates()\n",
    "                    data=list(cooc.data)\n",
    "                    row=list(cooc.row)\n",
    "                    col=list(cooc.col)\n",
    "                    print(len(data))\n",
    "\n",
    "    print(len(data))\n",
    "    final_row = row+col\n",
    "    final_col = col+row\n",
    "    data = data+data\n",
    "    cooc = coo_matrix((data, (final_row, final_col)))\n",
    "    print(\"Summing duplicates\")\n",
    "    cooc.sum_duplicates()\n",
    "    \n",
    "    with open(output_file, 'wb') as f:\n",
    "        pickle.dump(cooc, f, pickle.HIGHEST_PROTOCOL)\n",
    "        \n",
    "#Used datasets should be defined on the second code block\n",
    "threshold = 3\n",
    "create_cooc_dist('Processed_data/vocab_full' + '.pkl', 'Processed_data/negative_spell_full.txt', 'Processed_data/positive_spell_full.txt',\n",
    "            'Processed_data/cooc_dist_pickle_full_threshold_' + str(threshold) + '.pkl', threshold)"
   ]
  },
  {
   "cell_type": "code",
   "execution_count": 50,
   "metadata": {},
   "outputs": [
    {
     "name": "stdout",
     "output_type": "stream",
     "text": [
      "0.826822733041884\n"
     ]
    }
   ],
   "source": [
    "#Do not create word embeddings for these stop words\n",
    "def drop_stop_rows(cooc_path, stop_path, vocab_path, output_path):\n",
    "    with open(cooc_path, 'rb') as f:\n",
    "        cooc = pickle.load(f)\n",
    "    with open(stop_path, encoding = \"utf-8\") as stoplist:\n",
    "        words = stoplist.read().splitlines()\n",
    "    with open(vocab_path, 'rb') as f:\n",
    "        vocab = pickle.load(f)\n",
    "    stop_indexes = [vocab.get(t, -1) for t in words]\n",
    "    keeps = np.logical_not(np.isin(cooc.row, stop_indexes))\n",
    "    print(np.mean(keeps))\n",
    "    new_cols = cooc.col[keeps]\n",
    "    new_rows = cooc.row[keeps]\n",
    "    new_data = cooc.data[keeps]\n",
    "    new_cooc = coo_matrix((new_data, (new_rows, new_cols)))\n",
    "    with open(output_path, 'wb') as f:\n",
    "        pickle.dump(new_cooc, f, pickle.HIGHEST_PROTOCOL)\n",
    "        \n",
    "drop_stop_rows('Processed_data/cooc_dist_pickle_full_threshold_' + str(threshold) + '.pkl', \"Stoplist.txt\", \n",
    "              'Processed_data/vocab_full' + '.pkl', 'Processed_data/cooc_dist_pickle_cutted_threshold_' + str(threshold) + '.pkl')      "
   ]
  },
  {
   "cell_type": "code",
   "execution_count": 51,
   "metadata": {},
   "outputs": [
    {
     "name": "stdout",
     "output_type": "stream",
     "text": [
      "loading cooccurrence matrix\n",
      "5863 nonzero entries\n",
      "using nmax = 100 , cooc.max() = 21.0\n",
      "initializing embeddings\n",
      "epoch 0\n",
      "epoch 1\n",
      "epoch 2\n",
      "epoch 3\n",
      "epoch 4\n",
      "epoch 5\n",
      "epoch 6\n",
      "epoch 7\n",
      "epoch 8\n",
      "epoch 9\n",
      "epoch 10\n",
      "epoch 11\n",
      "epoch 12\n",
      "epoch 13\n",
      "epoch 14\n"
     ]
    }
   ],
   "source": [
    "## CREATE WORD EMBEDDINGS\n",
    "random.seed(123)\n",
    "def glove(cooc_pickle, output_file, embedding_dim):\n",
    "    print(\"loading cooccurrence matrix\")\n",
    "    with open(cooc_pickle, 'rb') as f:\n",
    "        cooc = pickle.load(f)\n",
    "    print(\"{} nonzero entries\".format(cooc.nnz))\n",
    "\n",
    "    nmax = 100\n",
    "    print(\"using nmax =\", nmax, \", cooc.max() =\", cooc.max())\n",
    "\n",
    "    print(\"initializing embeddings\")\n",
    "    xs = np.random.normal(size=(cooc.shape[0], embedding_dim))\n",
    "    ys = np.random.normal(size=(cooc.shape[1], embedding_dim))\n",
    "\n",
    "    eta = 0.001\n",
    "    alpha = 3 / 4\n",
    "\n",
    "    epochs = 15\n",
    "\n",
    "    for epoch in range(epochs):\n",
    "        print(\"epoch {}\".format(epoch))\n",
    "        for ix, jy, n in zip(cooc.row, cooc.col, cooc.data):\n",
    "            logn = np.log(n)\n",
    "            fn = min(1.0, (n / nmax) ** alpha)\n",
    "            x, y = xs[ix, :], ys[jy, :]\n",
    "            scale = 2 * eta * fn * (logn - np.dot(x, y))\n",
    "            xs[ix, :] += scale * y\n",
    "            ys[jy, :] += scale * x\n",
    "    np.save(output_file, xs)\n",
    "\n",
    "embedding_dim = 20\n",
    "glove('Processed_data/cooc_dist_pickle_cutted_threshold_' + str(threshold) + '.pkl',\n",
    "      'Processed_data/embeddings_dim_' + str(embedding_dim) + '.npy', embedding_dim)"
   ]
  },
  {
   "cell_type": "code",
   "execution_count": 53,
   "metadata": {},
   "outputs": [
    {
     "name": "stdout",
     "output_type": "stream",
     "text": [
      "0\n"
     ]
    }
   ],
   "source": [
    "##### LOAD THE TEST DATA, USE THE MODEL TO PREDICT THE SENTIMENTS AND SAVE THE PREDICTIONS\n",
    "with open('Processed_data/vocab_full' + '.pkl', 'rb') as f:\n",
    "    vocab = pickle.load(f)\n",
    "f.close()\n",
    "we = np.load('Processed_data/embeddings_dim_' + str(embedding_dim) + '.npy')\n",
    "\n",
    "#Define the used datasets here\n",
    "positive_path = 'Processed_data/positive_spell_full.txt'\n",
    "negative_path = 'Processed_data/negative_spell_full.txt'\n",
    "\n",
    "def load_train_data(data_path):\n",
    "    \"\"\"Loads data and returns ids (event ids) and X (feature vector)\"\"\"\n",
    "    f = open(data_path, encoding=\"utf-8\")\n",
    "    x = f.readlines()\n",
    "    x = pd.DataFrame(x, columns=['Tweets'])\n",
    "    f.close()\n",
    "    return x\n",
    "\n",
    "def load_and_label(negative_path, positive_path):\n",
    "    pos = load_train_data(positive_path)\n",
    "    neg = load_train_data(negative_path)\n",
    "    pos[\"y\"] = 1\n",
    "    neg[\"y\"] = 0\n",
    "    train = pd.concat([pos, neg])\n",
    "    train.reset_index(drop = True, inplace = True)\n",
    "    return train\n",
    "\n",
    "\n",
    "train = load_and_label(negative_path, positive_path)\n",
    "\n",
    "def count_tokens(line, vocab):\n",
    "    tokens = line.split()\n",
    "    nof_tokens = 0\n",
    "    for token in tokens:\n",
    "        if token in vocab.keys():\n",
    "            nof_tokens += 1\n",
    "    return nof_tokens\n",
    "\n",
    "train[\"nof_tokens\"] = train[\"Tweets\"].apply(lambda x: count_tokens(x, vocab))\n",
    "\n",
    "max_tokens = max(train[\"nof_tokens\"])\n",
    "max_tokens = 25\n",
    "train = train[train[\"nof_tokens\"] <= max_tokens]\n",
    "train.reset_index(drop = True, inplace = True)\n",
    "\n",
    "def data_to_matrix_array(train, max_tokens, we, vocab, stop_path):\n",
    "    with open(stop_path, encoding = \"utf-8\") as stoplist:\n",
    "        stop_words = stoplist.read().splitlines()\n",
    "    train_data = np.zeros((len(train), max_tokens, np.shape(we)[1]), dtype = np.float32)\n",
    "    i = -1\n",
    "    stop_indexes = [vocab.get(t, -1) for t in stop_words]\n",
    "    valid_keys = list(filter(lambda x: x not in stop_indexes, vocab.keys()))\n",
    "    filtered_vocab = {key: vocab[key] for key in valid_keys}\n",
    "    for line in train[\"Tweets\"]:\n",
    "        i += 1\n",
    "        if i % 20000 == 0:\n",
    "            print(i)\n",
    "        count = max_tokens\n",
    "        tokens = line.split()\n",
    "        for t in tokens:\n",
    "            if t in filtered_vocab.keys():\n",
    "                count -= 1\n",
    "                train_data[i, count, :] = we[filtered_vocab[t]]\n",
    "    return train_data\n",
    "    \n",
    "\n",
    "train_data = data_to_matrix_array(train, max_tokens, we, vocab, 'Stoplist.txt')\n",
    "            "
   ]
  },
  {
   "cell_type": "code",
   "execution_count": 59,
   "metadata": {},
   "outputs": [],
   "source": [
    "def create_model(max_tokens, dim):\n",
    "    model = Sequential()\n",
    "    model.add(LSTM(60, input_shape = (max_tokens, dim), return_sequences = True))\n",
    "    model.add(Dropout(0.2))\n",
    "    model.add(Flatten())\n",
    "    model.add(Dense(10, activation = 'sigmoid'))\n",
    "    model.add(Dense(1, activation = 'sigmoid'))\n",
    "\n",
    "    # Compile model\n",
    "    model.compile(\n",
    "        loss = 'mse',\n",
    "        optimizer = 'adam',\n",
    "        metrics = ['accuracy'],\n",
    "    )\n",
    "    return model"
   ]
  },
  {
   "cell_type": "code",
   "execution_count": 60,
   "metadata": {},
   "outputs": [
    {
     "name": "stdout",
     "output_type": "stream",
     "text": [
      "Epoch 1/2\n",
      "90/90 [==============================] - 3s 31ms/step - loss: 0.2309 - accuracy: 0.6333 1s - loss: 0.2411 - \n",
      "Epoch 2/2\n",
      "90/90 [==============================] - 1s 14ms/step - loss: 0.2134 - accuracy: 0.6333\n"
     ]
    }
   ],
   "source": [
    "tensorflow.random.set_seed(112233)\n",
    "np.random.seed(123)\n",
    "subset = np.random.uniform(0, 1, len(train_data)) < 0.6 #Portion of the train data to be used to fit the nn\n",
    "y_sample = train[\"y\"][subset]\n",
    "y_sample.reset_index(drop = True, inplace = True)\n",
    "classifier = create_model(max_tokens, np.shape(we)[1])\n",
    "fit = classifier.fit(x = train_data[subset, :, :], y = y_sample, batch_size=4, epochs=2, verbose=1, shuffle = True)"
   ]
  },
  {
   "cell_type": "code",
   "execution_count": 63,
   "metadata": {},
   "outputs": [
    {
     "name": "stderr",
     "output_type": "stream",
     "text": [
      "C:\\Users\\Alvari.Kone\\Anaconda3\\lib\\site-packages\\ipykernel_launcher.py:5: DeprecationWarning: elementwise comparison failed; this will raise an error in the future.\n",
      "  \"\"\"\n"
     ]
    },
    {
     "ename": "Exception",
     "evalue": "Data must be 1-dimensional",
     "output_type": "error",
     "traceback": [
      "\u001b[1;31m---------------------------------------------------------------------------\u001b[0m",
      "\u001b[1;31mException\u001b[0m                                 Traceback (most recent call last)",
      "\u001b[1;32m<ipython-input-63-3233ddff13a9>\u001b[0m in \u001b[0;36m<module>\u001b[1;34m\u001b[0m\n\u001b[0;32m      3\u001b[0m \u001b[0mpredictions\u001b[0m\u001b[1;33m[\u001b[0m\u001b[0mpredictions\u001b[0m \u001b[1;33m<=\u001b[0m \u001b[1;36m0.5\u001b[0m\u001b[1;33m]\u001b[0m \u001b[1;33m=\u001b[0m \u001b[1;36m0\u001b[0m\u001b[1;33m\u001b[0m\u001b[1;33m\u001b[0m\u001b[0m\n\u001b[0;32m      4\u001b[0m \u001b[1;31m#Calculate accuracy for the remaining around 40 % of the data\u001b[0m\u001b[1;33m\u001b[0m\u001b[1;33m\u001b[0m\u001b[1;33m\u001b[0m\u001b[0m\n\u001b[1;32m----> 5\u001b[1;33m \u001b[0mnp\u001b[0m\u001b[1;33m.\u001b[0m\u001b[0mmean\u001b[0m\u001b[1;33m(\u001b[0m\u001b[0mpredictions\u001b[0m \u001b[1;33m==\u001b[0m \u001b[0mtrain\u001b[0m\u001b[1;33m[\u001b[0m\u001b[1;34m\"y\"\u001b[0m\u001b[1;33m]\u001b[0m\u001b[1;33m[\u001b[0m\u001b[0mnp\u001b[0m\u001b[1;33m.\u001b[0m\u001b[0mlogical_not\u001b[0m\u001b[1;33m(\u001b[0m\u001b[0msubset\u001b[0m\u001b[1;33m)\u001b[0m\u001b[1;33m]\u001b[0m\u001b[1;33m)\u001b[0m\u001b[1;33m\u001b[0m\u001b[1;33m\u001b[0m\u001b[0m\n\u001b[0m",
      "\u001b[1;32m~\\Anaconda3\\lib\\site-packages\\pandas\\core\\ops\\__init__.py\u001b[0m in \u001b[0;36mwrapper\u001b[1;34m(self, other, axis)\u001b[0m\n\u001b[0;32m   1208\u001b[0m \u001b[1;33m\u001b[0m\u001b[0m\n\u001b[0;32m   1209\u001b[0m             \u001b[0mres_values\u001b[0m \u001b[1;33m=\u001b[0m \u001b[0mna_op\u001b[0m\u001b[1;33m(\u001b[0m\u001b[0mself\u001b[0m\u001b[1;33m.\u001b[0m\u001b[0mvalues\u001b[0m\u001b[1;33m,\u001b[0m \u001b[0mnp\u001b[0m\u001b[1;33m.\u001b[0m\u001b[0masarray\u001b[0m\u001b[1;33m(\u001b[0m\u001b[0mother\u001b[0m\u001b[1;33m)\u001b[0m\u001b[1;33m)\u001b[0m\u001b[1;33m\u001b[0m\u001b[1;33m\u001b[0m\u001b[0m\n\u001b[1;32m-> 1210\u001b[1;33m             \u001b[0mresult\u001b[0m \u001b[1;33m=\u001b[0m \u001b[0mself\u001b[0m\u001b[1;33m.\u001b[0m\u001b[0m_constructor\u001b[0m\u001b[1;33m(\u001b[0m\u001b[0mres_values\u001b[0m\u001b[1;33m,\u001b[0m \u001b[0mindex\u001b[0m\u001b[1;33m=\u001b[0m\u001b[0mself\u001b[0m\u001b[1;33m.\u001b[0m\u001b[0mindex\u001b[0m\u001b[1;33m)\u001b[0m\u001b[1;33m\u001b[0m\u001b[1;33m\u001b[0m\u001b[0m\n\u001b[0m\u001b[0;32m   1211\u001b[0m             \u001b[1;31m# rename is needed in case res_name is None and self.name\u001b[0m\u001b[1;33m\u001b[0m\u001b[1;33m\u001b[0m\u001b[1;33m\u001b[0m\u001b[0m\n\u001b[0;32m   1212\u001b[0m             \u001b[1;31m# is not.\u001b[0m\u001b[1;33m\u001b[0m\u001b[1;33m\u001b[0m\u001b[1;33m\u001b[0m\u001b[0m\n",
      "\u001b[1;32m~\\Anaconda3\\lib\\site-packages\\pandas\\core\\series.py\u001b[0m in \u001b[0;36m__init__\u001b[1;34m(self, data, index, dtype, name, copy, fastpath)\u001b[0m\n\u001b[0;32m    312\u001b[0m                     \u001b[0mdata\u001b[0m \u001b[1;33m=\u001b[0m \u001b[0mdata\u001b[0m\u001b[1;33m.\u001b[0m\u001b[0mcopy\u001b[0m\u001b[1;33m(\u001b[0m\u001b[1;33m)\u001b[0m\u001b[1;33m\u001b[0m\u001b[1;33m\u001b[0m\u001b[0m\n\u001b[0;32m    313\u001b[0m             \u001b[1;32melse\u001b[0m\u001b[1;33m:\u001b[0m\u001b[1;33m\u001b[0m\u001b[1;33m\u001b[0m\u001b[0m\n\u001b[1;32m--> 314\u001b[1;33m                 \u001b[0mdata\u001b[0m \u001b[1;33m=\u001b[0m \u001b[0msanitize_array\u001b[0m\u001b[1;33m(\u001b[0m\u001b[0mdata\u001b[0m\u001b[1;33m,\u001b[0m \u001b[0mindex\u001b[0m\u001b[1;33m,\u001b[0m \u001b[0mdtype\u001b[0m\u001b[1;33m,\u001b[0m \u001b[0mcopy\u001b[0m\u001b[1;33m,\u001b[0m \u001b[0mraise_cast_failure\u001b[0m\u001b[1;33m=\u001b[0m\u001b[1;32mTrue\u001b[0m\u001b[1;33m)\u001b[0m\u001b[1;33m\u001b[0m\u001b[1;33m\u001b[0m\u001b[0m\n\u001b[0m\u001b[0;32m    315\u001b[0m \u001b[1;33m\u001b[0m\u001b[0m\n\u001b[0;32m    316\u001b[0m                 \u001b[0mdata\u001b[0m \u001b[1;33m=\u001b[0m \u001b[0mSingleBlockManager\u001b[0m\u001b[1;33m(\u001b[0m\u001b[0mdata\u001b[0m\u001b[1;33m,\u001b[0m \u001b[0mindex\u001b[0m\u001b[1;33m,\u001b[0m \u001b[0mfastpath\u001b[0m\u001b[1;33m=\u001b[0m\u001b[1;32mTrue\u001b[0m\u001b[1;33m)\u001b[0m\u001b[1;33m\u001b[0m\u001b[1;33m\u001b[0m\u001b[0m\n",
      "\u001b[1;32m~\\Anaconda3\\lib\\site-packages\\pandas\\core\\internals\\construction.py\u001b[0m in \u001b[0;36msanitize_array\u001b[1;34m(data, index, dtype, copy, raise_cast_failure)\u001b[0m\n\u001b[0;32m    727\u001b[0m     \u001b[1;32melif\u001b[0m \u001b[0msubarr\u001b[0m\u001b[1;33m.\u001b[0m\u001b[0mndim\u001b[0m \u001b[1;33m>\u001b[0m \u001b[1;36m1\u001b[0m\u001b[1;33m:\u001b[0m\u001b[1;33m\u001b[0m\u001b[1;33m\u001b[0m\u001b[0m\n\u001b[0;32m    728\u001b[0m         \u001b[1;32mif\u001b[0m \u001b[0misinstance\u001b[0m\u001b[1;33m(\u001b[0m\u001b[0mdata\u001b[0m\u001b[1;33m,\u001b[0m \u001b[0mnp\u001b[0m\u001b[1;33m.\u001b[0m\u001b[0mndarray\u001b[0m\u001b[1;33m)\u001b[0m\u001b[1;33m:\u001b[0m\u001b[1;33m\u001b[0m\u001b[1;33m\u001b[0m\u001b[0m\n\u001b[1;32m--> 729\u001b[1;33m             \u001b[1;32mraise\u001b[0m \u001b[0mException\u001b[0m\u001b[1;33m(\u001b[0m\u001b[1;34m\"Data must be 1-dimensional\"\u001b[0m\u001b[1;33m)\u001b[0m\u001b[1;33m\u001b[0m\u001b[1;33m\u001b[0m\u001b[0m\n\u001b[0m\u001b[0;32m    730\u001b[0m         \u001b[1;32melse\u001b[0m\u001b[1;33m:\u001b[0m\u001b[1;33m\u001b[0m\u001b[1;33m\u001b[0m\u001b[0m\n\u001b[0;32m    731\u001b[0m             \u001b[0msubarr\u001b[0m \u001b[1;33m=\u001b[0m \u001b[0mcom\u001b[0m\u001b[1;33m.\u001b[0m\u001b[0masarray_tuplesafe\u001b[0m\u001b[1;33m(\u001b[0m\u001b[0mdata\u001b[0m\u001b[1;33m,\u001b[0m \u001b[0mdtype\u001b[0m\u001b[1;33m=\u001b[0m\u001b[0mdtype\u001b[0m\u001b[1;33m)\u001b[0m\u001b[1;33m\u001b[0m\u001b[1;33m\u001b[0m\u001b[0m\n",
      "\u001b[1;31mException\u001b[0m: Data must be 1-dimensional"
     ]
    }
   ],
   "source": [
    "predictions = classifier.predict(train_data[np.logical_not(subset), :, :])\n",
    "predictions[predictions > 0.5] = 1\n",
    "predictions[predictions <= 0.5] = 0\n",
    "#Calculate accuracy for the remaining around 40 % of the data\n",
    "np.mean(predictions == train[\"y\"][np.logical_not(subset)])\n"
   ]
  },
  {
   "cell_type": "code",
   "execution_count": 69,
   "metadata": {},
   "outputs": [
    {
     "data": {
      "text/plain": [
       "array([[0.],\n",
       "       [0.],\n",
       "       [0.],\n",
       "       [0.],\n",
       "       [0.],\n",
       "       [0.],\n",
       "       [0.],\n",
       "       [0.],\n",
       "       [0.],\n",
       "       [0.],\n",
       "       [0.],\n",
       "       [0.],\n",
       "       [0.],\n",
       "       [0.],\n",
       "       [0.],\n",
       "       [0.],\n",
       "       [0.],\n",
       "       [0.],\n",
       "       [0.],\n",
       "       [0.],\n",
       "       [0.],\n",
       "       [0.],\n",
       "       [0.],\n",
       "       [0.],\n",
       "       [0.],\n",
       "       [0.],\n",
       "       [0.],\n",
       "       [0.],\n",
       "       [0.],\n",
       "       [0.],\n",
       "       [0.],\n",
       "       [0.],\n",
       "       [0.],\n",
       "       [0.],\n",
       "       [0.],\n",
       "       [0.],\n",
       "       [0.],\n",
       "       [0.],\n",
       "       [0.],\n",
       "       [0.],\n",
       "       [0.],\n",
       "       [0.],\n",
       "       [0.],\n",
       "       [0.],\n",
       "       [0.],\n",
       "       [0.],\n",
       "       [0.],\n",
       "       [0.],\n",
       "       [0.],\n",
       "       [0.],\n",
       "       [0.],\n",
       "       [0.]], dtype=float32)"
      ]
     },
     "execution_count": 69,
     "metadata": {},
     "output_type": "execute_result"
    }
   ],
   "source": [
    "predictions"
   ]
  },
  {
   "cell_type": "code",
   "execution_count": null,
   "metadata": {},
   "outputs": [],
   "source": [
    "##### LOAD THE TEST DATA, USE THE MODEL TO PREDICT THE SENTIMENTS AND SAVE THE PREDICTIONS\n",
    "\n",
    "def load_test_data(data_path):\n",
    "    \"\"\"Loads data and returns ids (event ids) and X (feature vector)\"\"\"\n",
    "    f = open(data_path, encoding=\"utf-8\")\n",
    "    x = f.readlines()\n",
    "    x = pd.DataFrame(x, columns=['Tweets'])\n",
    "    f.close()\n",
    "    return x\n",
    "\n",
    "\n",
    "test = load_test_data(\"Processed_data/test_spell.txt\")\n",
    "\n",
    "test_data = data_to_matrix_array(test, max_tokens, we, vocab, 'Stoplist.txt')"
   ]
  },
  {
   "cell_type": "code",
   "execution_count": null,
   "metadata": {},
   "outputs": [],
   "source": [
    "# CREATE THE SUBMISSION FILE\n",
    "predictions = classifier.predict(test_data)\n",
    "predictions[predictions > 0.5] = 1\n",
    "predictions[predictions < 1] = -1\n",
    "test[\"Id\"] = range(1, 1 + len(predictions))\n",
    "test[\"Prediction\"] = np.round(predictions)\n",
    "test[[\"Id\", \"Prediction\"]].to_csv(\"Submissions/submissionX\" + time + \".csv\", header= True, index = False, float_format='%.0f')"
   ]
  }
 ],
 "metadata": {
  "kernelspec": {
   "display_name": "Python 3",
   "language": "python",
   "name": "python3"
  },
  "language_info": {
   "codemirror_mode": {
    "name": "ipython",
    "version": 3
   },
   "file_extension": ".py",
   "mimetype": "text/x-python",
   "name": "python",
   "nbconvert_exporter": "python",
   "pygments_lexer": "ipython3",
   "version": "3.7.3"
  }
 },
 "nbformat": 4,
 "nbformat_minor": 2
}
